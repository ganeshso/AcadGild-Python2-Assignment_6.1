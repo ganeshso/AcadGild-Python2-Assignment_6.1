{
 "cells": [
  {
   "cell_type": "markdown",
   "metadata": {},
   "source": [
    "###Problem Statement\n",
    "Problem Statement 1:\n",
    "\n",
    "Write a function so that the columns of the output matrix are powers of the input\n",
    "vector.\n",
    "The order of the powers is determined by the increasing boolean argument. Specifically,\n",
    "when increasing is False, the i-th output column is the input vector raised element-wise\n",
    "to the power of N - i - 1.\n",
    "\n",
    "HINT: Such a matrix with a geometric progression in each row is named for Alexandre-\n",
    "Theophile Vandermonde."
   ]
  },
  {
   "cell_type": "code",
   "execution_count": 1,
   "metadata": {},
   "outputs": [],
   "source": [
    "import numpy as np"
   ]
  },
  {
   "cell_type": "code",
   "execution_count": null,
   "metadata": {},
   "outputs": [
    {
     "name": "stdout",
     "output_type": "stream",
     "text": [
      "using tradtional method with detailed steps..\n"
     ]
    }
   ],
   "source": [
    "## using traditional method with all the detailed steps\n",
    "def GenerateVandermatrix(VectorArray):\n",
    "    matrix = np.zeros((length,length))\n",
    "    for l in range(length):\n",
    "        for a in range(length):\n",
    "            #print(\"l\",l)\n",
    "            #print(\"a\",a)\n",
    "            matrix[l,a] = int(VectorArray[l])**int(a)\n",
    "    #print(matrix)\n",
    "    return matrix\n",
    "\n",
    "print(\"using tradtional method with detailed steps..\")\n",
    "### enter the comma separated list of numbers like 1,2,3,4\n",
    "lst = input(\"Enter the vector\")\n",
    "\n",
    "#print (lst)\n",
    "length = len(lst.split(',')) # get the length of the input vector\n",
    "lst_Arr= lst.split(',') #get the list of input vetctor elements\n",
    "#print(length) \n",
    "Varr = np.array(lst_Arr,dtype=int) # Create an array for input vector\n",
    "#print(\"input\",Varr[1])\n",
    "print(GenerateVandermatrix(Varr)) # call the method to generate the Vander matrix\n",
    "\n"
   ]
  },
  {
   "cell_type": "code",
   "execution_count": 7,
   "metadata": {},
   "outputs": [
    {
     "name": "stdout",
     "output_type": "stream",
     "text": [
      "usng the built in function..\n"
     ]
    },
    {
     "data": {
      "text/plain": [
       "array([[ 1,  1,  1,  1],\n",
       "       [ 1,  2,  4,  8],\n",
       "       [ 1,  3,  9, 27],\n",
       "       [ 1,  4, 16, 64]])"
      ]
     },
     "execution_count": 7,
     "metadata": {},
     "output_type": "execute_result"
    }
   ],
   "source": [
    "### enter the comma separated list of numbers like 1,2,3,4\n",
    "print(\"using the built in function..\")\n",
    "lst1 = input(\"Enter the vector: \")\n",
    "#print (lst)\n",
    "l = len(lst1.split(','))\n",
    "lst_Array= lst1.split(',')\n",
    "#print(l) \n",
    "Varray = np.array(lst_Array,dtype=int)\n",
    "#print(Varray)\n",
    "np.vander(Varray,N=l,increasing=True)\n",
    "\n",
    "\n",
    "#x = np.array([1,2,3,4])\n",
    "#np.vander(x,N=3,increasing=True)"
   ]
  },
  {
   "cell_type": "code",
   "execution_count": null,
   "metadata": {},
   "outputs": [],
   "source": []
  }
 ],
 "metadata": {
  "kernelspec": {
   "display_name": "Python 3",
   "language": "python",
   "name": "python3"
  },
  "language_info": {
   "codemirror_mode": {
    "name": "ipython",
    "version": 3
   },
   "file_extension": ".py",
   "mimetype": "text/x-python",
   "name": "python",
   "nbconvert_exporter": "python",
   "pygments_lexer": "ipython3",
   "version": "3.6.4"
  }
 },
 "nbformat": 4,
 "nbformat_minor": 2
}
